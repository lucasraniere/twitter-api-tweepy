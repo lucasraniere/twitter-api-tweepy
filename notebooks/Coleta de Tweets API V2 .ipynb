{
 "cells": [
  {
   "cell_type": "markdown",
   "id": "0e4f0c54-10fe-4a4d-9a80-7d88badd3c00",
   "metadata": {},
   "source": [
    "# __Tweepy: Busca de tweets com Twitter API V2__"
   ]
  },
  {
   "cell_type": "markdown",
   "id": "ca77ea8b-1d53-47f4-97d8-6a59aaf9fb5c",
   "metadata": {},
   "source": [
    "Para a API V2 do Twitter temos dois _end points_ de busca de tweets:\n",
    "\n",
    "    1. Busca recente, onde podemos coletar tweets dentro de uma janela de 7 dias;\n",
    "    2. Busca completa, onde podemos coletar tweets desde de março de 2006"
   ]
  },
  {
   "cell_type": "code",
   "execution_count": 2,
   "id": "bf3eac95-efb0-4afc-a53d-2bdcccb10879",
   "metadata": {},
   "outputs": [],
   "source": [
    "import tweepy, os, requests\n",
    "import pandas as pd\n",
    "import tweepy as tw\n",
    "from datetime import datetime, timezone"
   ]
  },
  {
   "cell_type": "code",
   "execution_count": 4,
   "id": "739bcdde-283b-4346-9841-211f5fd7ef18",
   "metadata": {},
   "outputs": [],
   "source": [
    "keys = {\n",
    "        'consumer_key': os.environ.get('API_KEY'),\n",
    "        'consumer_secret': os.environ.get('API_SECRET'),\n",
    "        'access_token_key': os.environ.get('ACCESS_TOKEN'),\n",
    "        'access_token_secret': os.environ.get('ACCESS_TOKEN_SECRET'),\n",
    "        'bearer_token': os.environ.get('BEARER_TOKEN')\n",
    "    }"
   ]
  },
  {
   "cell_type": "markdown",
   "id": "3e2aa803-1bce-44fe-a2ac-faa8b6e7ada9",
   "metadata": {},
   "source": [
    "Para a API V2 não é necessário criar um autenticador, basta criar uma instância de _Client_ do Tweepy e colocar as seguintes informaçães para realizar a autenticação."
   ]
  },
  {
   "cell_type": "code",
   "execution_count": 5,
   "id": "5ce85b90-0e1a-4907-aa3e-00bd8946f9d7",
   "metadata": {},
   "outputs": [],
   "source": [
    "client = tw.Client(\n",
    "    bearer_token=keys['bearer_token'],\n",
    "    #keys['consumer_key'],\n",
    "    #keys['consumer_secret'],\n",
    "    #keys['access_token_key'],\n",
    "    #keys['access_token_secret'],\n",
    "    wait_on_rate_limit=True,\n",
    "    #return_type=dict\n",
    ")"
   ]
  },
  {
   "cell_type": "markdown",
   "id": "270f06d5-4c0c-438b-8d75-0718a996fbee",
   "metadata": {},
   "source": [
    "## Busca Recente"
   ]
  },
  {
   "cell_type": "code",
   "execution_count": 6,
   "id": "287f4e44-82e7-4a3b-8662-090915595658",
   "metadata": {},
   "outputs": [],
   "source": [
    "tweets_recent = client.search_recent_tweets(\n",
    "    query='python lang:pt', # query de busca (lang:pt é um filtro da própria busca do tweet)\n",
    "    end_time='2022-09-07T00:00:00Z', # procura tweets antes desse dia\n",
    "    start_time='2022-09-03T00:00:00Z', # procura tweets após esse dia\n",
    "    max_results = 50, # número máximo de tweets recuperados (o máximo continua sendo 100 tweets por página)\n",
    "    sort_order='recency', # ordenação dos tweets, pode ser por relevância (relevancy) ou tweets mais recentes (recency) \n",
    ")"
   ]
  },
  {
   "cell_type": "code",
   "execution_count": 8,
   "id": "a90fe9a3-37a0-438c-a61e-81f19f775653",
   "metadata": {},
   "outputs": [
    {
     "data": {
      "text/plain": [
       "49"
      ]
     },
     "execution_count": 8,
     "metadata": {},
     "output_type": "execute_result"
    }
   ],
   "source": [
    "#tweets = [tweet for tweet in tweets_recent['data']]\n",
    "tweets = [tweet for tweet in tweets_recent.data]\n",
    "len(tweets)"
   ]
  },
  {
   "cell_type": "code",
   "execution_count": 11,
   "id": "7af46d58-247a-4cd2-a032-314a3a9f0bb8",
   "metadata": {},
   "outputs": [
    {
     "data": {
      "text/plain": [
       "<Tweet id=1567301404192120839 text='O meu professor segue firme tentando obrigar a turma a aprender Fortran, e disse que vai zerar se alguém entregar em Python'>"
      ]
     },
     "execution_count": 11,
     "metadata": {},
     "output_type": "execute_result"
    }
   ],
   "source": [
    "tweets[0]"
   ]
  },
  {
   "cell_type": "markdown",
   "id": "db0ec711-734f-4bc1-9dc2-d67580f34877",
   "metadata": {},
   "source": [
    "Mas só recupera esses dados do Tweet????\n",
    "\n",
    "Para adicionar mais campos é necessário especificar na busca."
   ]
  },
  {
   "cell_type": "code",
   "execution_count": 46,
   "id": "3e4fec92-9d0b-4f36-9fa6-e2b60ed4820c",
   "metadata": {},
   "outputs": [],
   "source": [
    "tweets_recent = client.search_recent_tweets(\n",
    "    query='python lang:pt', # query de busca (lang:pt é um filtro da própria busca do tweet)\n",
    "    end_time='2022-09-07T00:00:00Z', # procura tweets antes desse dia\n",
    "    start_time='2022-09-03T00:00:00Z', # procura tweets após esse dia\n",
    "    max_results = 50, # número máximo de tweets recuperados (o máximo continua sendo 100 tweets por página)\n",
    "    sort_order='recency', # ordenação dos tweets, pode ser por relevância (relevancy) ou tweets mais recentes (recency)\n",
    "    expansions=['author_id', 'geo.place_id', 'entities.mentions.username', 'referenced_tweets.id', 'in_reply_to_user_id', 'referenced_tweets.id.author_id'],\n",
    "    place_fields=['full_name', 'country'],\n",
    "    tweet_fields=['id', 'text', 'author_id', 'conversation_id', 'created_at', 'entities', 'in_reply_to_user_id', 'lang',\n",
    "                   'public_metrics', 'referenced_tweets'])"
   ]
  },
  {
   "cell_type": "markdown",
   "id": "41446ab6-df49-4d1a-945f-be2dd7bad315",
   "metadata": {},
   "source": [
    "O método _Cliente_ retorna um objeto _Response_, que é uma tupla de coleções, contendo _data_, _includes_, _errors_, e _meta_."
   ]
  },
  {
   "cell_type": "code",
   "execution_count": 47,
   "id": "bed5deab-6d6b-4e3a-a514-6c14b783485d",
   "metadata": {},
   "outputs": [
    {
     "data": {
      "text/plain": [
       "tweepy.client.Response"
      ]
     },
     "execution_count": 47,
     "metadata": {},
     "output_type": "execute_result"
    }
   ],
   "source": [
    "type(tweets_recent)"
   ]
  },
  {
   "cell_type": "code",
   "execution_count": 51,
   "id": "1d54f067-9e70-4bf3-92dc-8039cada6fc7",
   "metadata": {},
   "outputs": [
    {
     "data": {
      "text/plain": [
       "[<Tweet id=1567301404192120839 text='O meu professor segue firme tentando obrigar a turma a aprender Fortran, e disse que vai zerar se alguém entregar em Python'>,\n",
       " <Tweet id=1567300131690610688 text='acho q vou virar essa noite aprendendo python 👌'>,\n",
       " <Tweet id=1567299170553274370 text='@bruxinhadoicmc e o papo de fazer em python?'>,\n",
       " <Tweet id=1567298678565511169 text='@x_heitor_x16 ano passado a gente tava estudando programação no técnico (a gente teve introdução pra python) \\n\\ndaí esse ano tá mais focado em desenvolvimento web msm'>,\n",
       " <Tweet id=1567296555933106176 text='@PaoCelestial_ct @HadokenEx pior que, em tão pouco tempo de aula, eu saberia fazer isso\\né só saber o que cada coisa faz, o foda é que eu não sei que linguagem é essa, muito provavelmente é python'>]"
      ]
     },
     "execution_count": 51,
     "metadata": {},
     "output_type": "execute_result"
    }
   ],
   "source": [
    "# acessar tweets\n",
    "tweets_recent.data[:5] # também pode ser acessado dessa forma: tweets_recent[0]"
   ]
  },
  {
   "cell_type": "code",
   "execution_count": 55,
   "id": "7327d4bb-b2bc-49f3-aded-402c5a421c0c",
   "metadata": {},
   "outputs": [
    {
     "data": {
      "text/plain": [
       "dict_keys(['users', 'tweets'])"
      ]
     },
     "execution_count": 55,
     "metadata": {},
     "output_type": "execute_result"
    }
   ],
   "source": [
    "# acessar dados do includes\n",
    "tweets_recent.includes.keys() # um objeto que contém informações sobre os usuários e tweets"
   ]
  },
  {
   "cell_type": "code",
   "execution_count": 56,
   "id": "68eda115-aa01-441d-bf50-9355d36c8a1d",
   "metadata": {},
   "outputs": [
    {
     "data": {
      "text/plain": [
       "[{'resource_id': '1567291270552223744',\n",
       "  'parameter': 'referenced_tweets.id',\n",
       "  'resource_type': 'tweet',\n",
       "  'section': 'includes',\n",
       "  'title': 'Authorization Error',\n",
       "  'value': '1567291270552223744',\n",
       "  'detail': 'Sorry, you are not authorized to see the Tweet with referenced_tweets.id: [1567291270552223744].',\n",
       "  'type': 'https://api.twitter.com/2/problems/not-authorized-for-resource'}]"
      ]
     },
     "execution_count": 56,
     "metadata": {},
     "output_type": "execute_result"
    }
   ],
   "source": [
    "# acessar errors\n",
    "tweets_recent.errors"
   ]
  },
  {
   "cell_type": "code",
   "execution_count": 57,
   "id": "f040417d-0379-4bc4-9f8d-ec687dcaef68",
   "metadata": {},
   "outputs": [
    {
     "data": {
      "text/plain": [
       "{'newest_id': '1567301404192120839',\n",
       " 'oldest_id': '1567263831067398145',\n",
       " 'result_count': 49,\n",
       " 'next_token': 'b26v89c19zqg8o3fpz8mu60m1ez3ups0mmlte9kdbn4hp'}"
      ]
     },
     "execution_count": 57,
     "metadata": {},
     "output_type": "execute_result"
    }
   ],
   "source": [
    "# acessar meta\n",
    "tweets_recent.meta"
   ]
  },
  {
   "cell_type": "code",
   "execution_count": 60,
   "id": "2a2f93e9-a6b8-4311-8aa1-65b8e03326b8",
   "metadata": {},
   "outputs": [
    {
     "name": "stdout",
     "output_type": "stream",
     "text": [
      "\n",
      "Número de tweets contidos no data: 49\n",
      "Número de intens contidos nos includes de users: 66\n",
      "Número de intens contidos nos includes de tweets: 18\n",
      "\n"
     ]
    }
   ],
   "source": [
    "print(f'''\n",
    "Número de tweets contidos no data: {len(tweets_recent.data)}\n",
    "Número de intens contidos nos includes de users: {len(tweets_recent.includes['users'])}\n",
    "Número de intens contidos nos includes de tweets: {len(tweets_recent.includes['tweets'])}\n",
    "''')"
   ]
  },
  {
   "cell_type": "code",
   "execution_count": 71,
   "id": "94bf34a0-186e-42d7-925d-0a8c9780af1a",
   "metadata": {},
   "outputs": [
    {
     "data": {
      "text/plain": [
       "{'conversation_id': '1567184942525779969',\n",
       " 'geo': {'place_id': '7cd48c674d4c69f7'},\n",
       " 'lang': 'pt',\n",
       " 'entities': {'mentions': [{'start': 0,\n",
       "    'end': 13,\n",
       "    'username': 'LAMI01773671',\n",
       "    'id': '1238884889124122626'}]},\n",
       " 'text': '@LAMI01773671 tudo bem eu já desejo as vezes // vc faz?',\n",
       " 'in_reply_to_user_id': '1238884889124122626',\n",
       " 'author_id': '1266799817096904705',\n",
       " 'public_metrics': {'retweet_count': 0,\n",
       "  'reply_count': 1,\n",
       "  'like_count': 1,\n",
       "  'quote_count': 0},\n",
       " 'id': '1567210368107253761',\n",
       " 'referenced_tweets': [{'type': 'replied_to', 'id': '1567204149263048705'}],\n",
       " 'created_at': '2022-09-06T17:57:23.000Z'}"
      ]
     },
     "execution_count": 71,
     "metadata": {},
     "output_type": "execute_result"
    }
   ],
   "source": [
    "tweets_recent.includes['tweets'][0].data"
   ]
  },
  {
   "cell_type": "markdown",
   "id": "afc6b788-fdd9-4e21-9a30-427f2af043fd",
   "metadata": {},
   "source": [
    "### Utilizando Paginação para Coleta de Mais Tweets"
   ]
  },
  {
   "cell_type": "code",
   "execution_count": 88,
   "id": "493afa79-0e42-4224-82ad-9ac148d40720",
   "metadata": {},
   "outputs": [
    {
     "data": {
      "text/plain": [
       "150"
      ]
     },
     "execution_count": 88,
     "metadata": {},
     "output_type": "execute_result"
    }
   ],
   "source": [
    "tweets = []\n",
    "\n",
    "for tweet in tw.Paginator(\n",
    "    client.search_recent_tweets,\n",
    "    query='programação', # query de busca (lang:pt é um filtro da própria busca do tweet)\n",
    "    end_time='2022-09-07T00:00:00Z', # procura tweets antes desse dia\n",
    "    start_time='2022-09-03T00:00:00Z', # procura tweets após esse dia\n",
    "    max_results = 50, # número máximo de tweets recuperados (o máximo continua sendo 100 tweets por página)\n",
    "    sort_order='recency', # ordenação dos tweets, pode ser por relevância (relevancy) ou tweets mais recentes (recency)\n",
    "    expansions=['author_id', 'geo.place_id', 'entities.mentions.username', 'referenced_tweets.id', 'in_reply_to_user_id', 'referenced_tweets.id.author_id'],\n",
    "    place_fields=['full_name', 'country'],\n",
    "    tweet_fields=['id', 'text', 'author_id', 'conversation_id', 'created_at', 'entities', 'in_reply_to_user_id', 'lang',\n",
    "                   'public_metrics', 'referenced_tweets']).flatten(limit=150):\n",
    "    tweets.append(tweet)\n",
    "\n",
    "len(tweets)"
   ]
  },
  {
   "cell_type": "code",
   "execution_count": 100,
   "id": "32561d4b-61a8-4808-a9a5-644c1eeed2fe",
   "metadata": {},
   "outputs": [
    {
     "data": {
      "text/plain": [
       "{'id': '1567298886020042754',\n",
       " 'entities': {'annotations': [{'start': 43,\n",
       "    'end': 47,\n",
       "    'probability': 0.343,\n",
       "    'type': 'Place',\n",
       "    'normalized_text': 'Verão'},\n",
       "   {'start': 192,\n",
       "    'end': 196,\n",
       "    'probability': 0.6824,\n",
       "    'type': 'Organization',\n",
       "    'normalized_text': 'Globo'}],\n",
       "  'mentions': [{'start': 0,\n",
       "    'end': 13,\n",
       "    'username': 'JornalOGlobo',\n",
       "    'id': '54341363'}]},\n",
       " 'public_metrics': {'retweet_count': 0,\n",
       "  'reply_count': 0,\n",
       "  'like_count': 0,\n",
       "  'quote_count': 0},\n",
       " 'text': '@JornalOGlobo Se voltarem com o Horário de Verão, espero que coloquem no país inteiro e não somente no sul, sudeste e centro-oeste.\\n\\nTinha pavor desse fuso por causa da programação gravada da Globo',\n",
       " 'referenced_tweets': [{'type': 'replied_to', 'id': '1567120567282843648'}],\n",
       " 'author_id': '1110925601102352384',\n",
       " 'lang': 'pt',\n",
       " 'conversation_id': '1567120567282843648',\n",
       " 'in_reply_to_user_id': '54341363',\n",
       " 'created_at': '2022-09-06T23:49:08.000Z'}"
      ]
     },
     "execution_count": 100,
     "metadata": {},
     "output_type": "execute_result"
    }
   ],
   "source": [
    "tweets[149].data"
   ]
  }
 ],
 "metadata": {
  "kernelspec": {
   "display_name": "Python 3 (ipykernel)",
   "language": "python",
   "name": "python3"
  },
  "language_info": {
   "codemirror_mode": {
    "name": "ipython",
    "version": 3
   },
   "file_extension": ".py",
   "mimetype": "text/x-python",
   "name": "python",
   "nbconvert_exporter": "python",
   "pygments_lexer": "ipython3",
   "version": "3.10.6"
  }
 },
 "nbformat": 4,
 "nbformat_minor": 5
}
