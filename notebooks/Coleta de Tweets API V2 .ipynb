{
 "cells": [
  {
   "cell_type": "markdown",
   "id": "0e4f0c54-10fe-4a4d-9a80-7d88badd3c00",
   "metadata": {},
   "source": [
    "# __Tweepy: Busca de tweets com Twitter API V2__"
   ]
  },
  {
   "cell_type": "markdown",
   "id": "ca77ea8b-1d53-47f4-97d8-6a59aaf9fb5c",
   "metadata": {},
   "source": [
    "Para a API V2 do Twitter temos dois _end points_ de busca de tweets:\n",
    "\n",
    "    1. Busca recente, onde podemos coletar tweets dentro de uma janela de 7 dias;\n",
    "    2. Busca completa, onde podemos coletar tweets desde de março de 2006"
   ]
  },
  {
   "cell_type": "code",
   "execution_count": 18,
   "id": "bf3eac95-efb0-4afc-a53d-2bdcccb10879",
   "metadata": {},
   "outputs": [],
   "source": [
    "import tweepy, os, requests\n",
    "import pandas as pd\n",
    "import tweepy as tw\n",
    "from datetime import datetime, timezone"
   ]
  },
  {
   "cell_type": "code",
   "execution_count": 10,
   "id": "739bcdde-283b-4346-9841-211f5fd7ef18",
   "metadata": {},
   "outputs": [],
   "source": [
    "keys = {\n",
    "        'consumer_key': os.environ.get('API_KEY'),\n",
    "        'consumer_secret': os.environ.get('API_SECRET'),\n",
    "        'access_token_key': os.environ.get('ACCESS_TOKEN'),\n",
    "        'access_token_secret': os.environ.get('ACCESS_TOKEN_SECRET'),\n",
    "        'bearer_token': os.environ.get('BEARER_TOKEN')\n",
    "    }"
   ]
  },
  {
   "cell_type": "markdown",
   "id": "3e2aa803-1bce-44fe-a2ac-faa8b6e7ada9",
   "metadata": {},
   "source": [
    "Para a API V2 não é necessário criar um autenticador, basta criar uma instância de _Client_ do Tweepy e colocar as seguintes informaçães para realizar a autenticação."
   ]
  },
  {
   "cell_type": "code",
   "execution_count": 232,
   "id": "5ce85b90-0e1a-4907-aa3e-00bd8946f9d7",
   "metadata": {},
   "outputs": [],
   "source": [
    "client = tw.Client(\n",
    "    bearer_token=keys['bearer_token'],\n",
    "    #keys['consumer_key'],\n",
    "    #keys['consumer_secret'],\n",
    "    #keys['access_token_key'],\n",
    "    #keys['access_token_secret'],\n",
    "    wait_on_rate_limit=True,\n",
    "    #return_type=dict\n",
    ")"
   ]
  },
  {
   "cell_type": "markdown",
   "id": "270f06d5-4c0c-438b-8d75-0718a996fbee",
   "metadata": {},
   "source": [
    "## Busca Recente"
   ]
  },
  {
   "cell_type": "code",
   "execution_count": 186,
   "id": "287f4e44-82e7-4a3b-8662-090915595658",
   "metadata": {},
   "outputs": [],
   "source": [
    "tweets_recent = client.search_recent_tweets(\n",
    "    query='python lang:pt', # query de busca (lang:pt é um filtro da própria busca do tweet)\n",
    "    end_time='2022-09-07T00:00:00Z', # procura tweets antes desse dia\n",
    "    start_time='2022-09-03T00:00:00Z', # procura tweets após esse dia\n",
    "    max_results = 50, # número máximo de tweets recuperados (o máximo continua sendo 100 tweets por página)\n",
    "    sort_order='recency', # ordenação dos tweets, pode ser por relevância (relevancy) ou tweets mais recentes (recency) \n",
    ")"
   ]
  },
  {
   "cell_type": "code",
   "execution_count": 188,
   "id": "a90fe9a3-37a0-438c-a61e-81f19f775653",
   "metadata": {},
   "outputs": [
    {
     "data": {
      "text/plain": [
       "49"
      ]
     },
     "execution_count": 188,
     "metadata": {},
     "output_type": "execute_result"
    }
   ],
   "source": [
    "tweets = [tweet for tweet in tweets_recent['data']]\n",
    "len(tweets)"
   ]
  },
  {
   "cell_type": "code",
   "execution_count": 189,
   "id": "7af46d58-247a-4cd2-a032-314a3a9f0bb8",
   "metadata": {},
   "outputs": [
    {
     "data": {
      "text/plain": [
       "{'id': '1567301404192120839',\n",
       " 'text': 'O meu professor segue firme tentando obrigar a turma a aprender Fortran, e disse que vai zerar se alguém entregar em Python'}"
      ]
     },
     "execution_count": 189,
     "metadata": {},
     "output_type": "execute_result"
    }
   ],
   "source": [
    "tweets[0]"
   ]
  },
  {
   "cell_type": "markdown",
   "id": "db0ec711-734f-4bc1-9dc2-d67580f34877",
   "metadata": {},
   "source": [
    "Mas só recupera esses dados do Tweet????\n",
    "\n",
    "Para adicionar mais campos é necessário especificar na busca."
   ]
  },
  {
   "cell_type": "code",
   "execution_count": 190,
   "id": "3e4fec92-9d0b-4f36-9fa6-e2b60ed4820c",
   "metadata": {},
   "outputs": [
    {
     "data": {
      "text/plain": [
       "49"
      ]
     },
     "execution_count": 190,
     "metadata": {},
     "output_type": "execute_result"
    }
   ],
   "source": [
    "tweets_recent = client.search_recent_tweets(\n",
    "    query='python lang:pt', # query de busca (lang:pt é um filtro da própria busca do tweet)\n",
    "    end_time='2022-09-07T00:00:00Z', # procura tweets antes desse dia\n",
    "    start_time='2022-09-03T00:00:00Z', # procura tweets após esse dia\n",
    "    max_results = 50, # número máximo de tweets recuperados (o máximo continua sendo 100 tweets por página)\n",
    "    sort_order='recency', # ordenação dos tweets, pode ser por relevância (relevancy) ou tweets mais recentes (recency)\n",
    "    expansions=['author_id', 'geo.place_id', 'entities.mentions.username', 'referenced_tweets.id', 'in_reply_to_user_id', 'referenced_tweets.id.author_id'],\n",
    "    place_fields=['full_name', 'country'],\n",
    "    tweet_fields=['id', 'text', 'author_id', 'conversation_id', 'created_at', 'entities', 'in_reply_to_user_id', 'lang',\n",
    "                   'public_metrics', 'referenced_tweets'])\n",
    "\n",
    "tweets = [tweet for tweet in tweets_recent['data']]\n",
    "len(tweets)"
   ]
  },
  {
   "cell_type": "code",
   "execution_count": 192,
   "id": "930e0c4d-fce2-47c9-a2dc-7a52a18f8289",
   "metadata": {},
   "outputs": [
    {
     "data": {
      "text/plain": [
       "{'conversation_id': '1567301404192120839',\n",
       " 'author_id': '1078692303273893890',\n",
       " 'created_at': '2022-09-06T23:59:08.000Z',\n",
       " 'id': '1567301404192120839',\n",
       " 'text': 'O meu professor segue firme tentando obrigar a turma a aprender Fortran, e disse que vai zerar se alguém entregar em Python',\n",
       " 'lang': 'pt',\n",
       " 'public_metrics': {'retweet_count': 0,\n",
       "  'reply_count': 0,\n",
       "  'like_count': 0,\n",
       "  'quote_count': 0}}"
      ]
     },
     "execution_count": 192,
     "metadata": {},
     "output_type": "execute_result"
    }
   ],
   "source": [
    "tweets[0]"
   ]
  },
  {
   "cell_type": "code",
   "execution_count": 193,
   "id": "d4672c89-419c-4e49-a394-8b4adbb94c3c",
   "metadata": {},
   "outputs": [
    {
     "data": {
      "text/plain": [
       "dict_keys(['data', 'includes', 'errors', 'meta'])"
      ]
     },
     "execution_count": 193,
     "metadata": {},
     "output_type": "execute_result"
    }
   ],
   "source": [
    "tweets_recent.keys() # informações coletadas"
   ]
  },
  {
   "cell_type": "code",
   "execution_count": 194,
   "id": "2ff99bfb-62a1-4596-a77b-aafd2e488b49",
   "metadata": {},
   "outputs": [
    {
     "data": {
      "text/plain": [
       "dict_keys(['users', 'tweets'])"
      ]
     },
     "execution_count": 194,
     "metadata": {},
     "output_type": "execute_result"
    }
   ],
   "source": [
    "tweets_recent['includes'].keys()"
   ]
  },
  {
   "cell_type": "code",
   "execution_count": 195,
   "id": "ba929910-49e9-4406-9925-6518e9280ba2",
   "metadata": {},
   "outputs": [
    {
     "data": {
      "text/plain": [
       "{'id': '1078692303273893890',\n",
       " 'name': 'derrotada da Unicamp',\n",
       " 'username': 'feercrystal'}"
      ]
     },
     "execution_count": 195,
     "metadata": {},
     "output_type": "execute_result"
    }
   ],
   "source": [
    "tweets_recent['includes']['users'][0]"
   ]
  },
  {
   "cell_type": "code",
   "execution_count": 196,
   "id": "06979fa7-6ea6-43c1-852f-cf2d1b7b6f1e",
   "metadata": {},
   "outputs": [
    {
     "data": {
      "text/plain": [
       "{'conversation_id': '1567184942525779969',\n",
       " 'author_id': '1266799817096904705',\n",
       " 'created_at': '2022-09-06T17:57:23.000Z',\n",
       " 'id': '1567210368107253761',\n",
       " 'entities': {'mentions': [{'start': 0,\n",
       "    'end': 13,\n",
       "    'username': 'LAMI01773671',\n",
       "    'id': '1238884889124122626'}]},\n",
       " 'referenced_tweets': [{'type': 'replied_to', 'id': '1567204149263048705'}],\n",
       " 'text': '@LAMI01773671 tudo bem eu já desejo as vezes // vc faz?',\n",
       " 'lang': 'pt',\n",
       " 'public_metrics': {'retweet_count': 0,\n",
       "  'reply_count': 1,\n",
       "  'like_count': 1,\n",
       "  'quote_count': 0},\n",
       " 'in_reply_to_user_id': '1238884889124122626',\n",
       " 'geo': {'place_id': '7cd48c674d4c69f7'}}"
      ]
     },
     "execution_count": 196,
     "metadata": {},
     "output_type": "execute_result"
    }
   ],
   "source": [
    "tweets_recent['includes']['tweets'][0]"
   ]
  },
  {
   "cell_type": "code",
   "execution_count": 197,
   "id": "d84af8fc-547d-4f08-8170-772dca87b9c5",
   "metadata": {},
   "outputs": [
    {
     "data": {
      "text/plain": [
       "{'newest_id': '1567301404192120839',\n",
       " 'oldest_id': '1567263831067398145',\n",
       " 'result_count': 49,\n",
       " 'next_token': 'b26v89c19zqg8o3fpz8mu60m1ez3ups0mmlte9kdbn4hp'}"
      ]
     },
     "execution_count": 197,
     "metadata": {},
     "output_type": "execute_result"
    }
   ],
   "source": [
    "tweets_recent['meta']"
   ]
  },
  {
   "cell_type": "markdown",
   "id": "afc6b788-fdd9-4e21-9a30-427f2af043fd",
   "metadata": {},
   "source": [
    "### Utilizando Paginação para Coleta de Mais Tweets"
   ]
  },
  {
   "cell_type": "code",
   "execution_count": 233,
   "id": "493afa79-0e42-4224-82ad-9ac148d40720",
   "metadata": {},
   "outputs": [
    {
     "data": {
      "text/plain": [
       "150"
      ]
     },
     "execution_count": 233,
     "metadata": {},
     "output_type": "execute_result"
    }
   ],
   "source": [
    "tweets = []\n",
    "\n",
    "for tweet in tw.Paginator(\n",
    "    client.search_recent_tweets,\n",
    "    query='programação', # query de busca (lang:pt é um filtro da própria busca do tweet)\n",
    "    end_time='2022-09-07T00:00:00Z', # procura tweets antes desse dia\n",
    "    start_time='2022-09-03T00:00:00Z', # procura tweets após esse dia\n",
    "    max_results = 50, # número máximo de tweets recuperados (o máximo continua sendo 100 tweets por página)\n",
    "    sort_order='recency', # ordenação dos tweets, pode ser por relevância (relevancy) ou tweets mais recentes (recency)\n",
    "    expansions=['author_id', 'geo.place_id', 'entities.mentions.username', 'referenced_tweets.id', 'in_reply_to_user_id', 'referenced_tweets.id.author_id'],\n",
    "    place_fields=['full_name', 'country'],\n",
    "    tweet_fields=['id', 'text', 'author_id', 'conversation_id', 'created_at', 'entities', 'in_reply_to_user_id', 'lang',\n",
    "                   'public_metrics', 'referenced_tweets']).flatten(limit=150):\n",
    "    tweets.append(tweet)\n",
    "\n",
    "len(tweets)"
   ]
  },
  {
   "cell_type": "code",
   "execution_count": 240,
   "id": "a313c392-311d-4170-993f-33c9f3cf2791",
   "metadata": {},
   "outputs": [
    {
     "data": {
      "text/plain": [
       "{'public_metrics': {'retweet_count': 3218,\n",
       "  'reply_count': 0,\n",
       "  'like_count': 0,\n",
       "  'quote_count': 0},\n",
       " 'id': '1567301618374266886',\n",
       " 'text': 'RT @leandroruschel: A única mídia tradicional com linha editorial mais alinhada ao presidente corre o risco de ser retirada do ar por 24hs,…',\n",
       " 'created_at': '2022-09-06T23:59:59.000Z',\n",
       " 'referenced_tweets': [{'type': 'retweeted', 'id': '1567281859062632450'}],\n",
       " 'conversation_id': '1567301618374266886',\n",
       " 'lang': 'pt',\n",
       " 'author_id': '49828116',\n",
       " 'entities': {'mentions': [{'start': 3,\n",
       "    'end': 18,\n",
       "    'username': 'leandroruschel',\n",
       "    'id': '174818242'}]}}"
      ]
     },
     "execution_count": 240,
     "metadata": {},
     "output_type": "execute_result"
    }
   ],
   "source": [
    "tweets[0].data"
   ]
  },
  {
   "cell_type": "code",
   "execution_count": null,
   "id": "c61f3dfa-4a7a-4eee-b87a-41d8d4421b22",
   "metadata": {},
   "outputs": [],
   "source": []
  }
 ],
 "metadata": {
  "kernelspec": {
   "display_name": "Python 3 (ipykernel)",
   "language": "python",
   "name": "python3"
  },
  "language_info": {
   "codemirror_mode": {
    "name": "ipython",
    "version": 3
   },
   "file_extension": ".py",
   "mimetype": "text/x-python",
   "name": "python",
   "nbconvert_exporter": "python",
   "pygments_lexer": "ipython3",
   "version": "3.10.6"
  }
 },
 "nbformat": 4,
 "nbformat_minor": 5
}
