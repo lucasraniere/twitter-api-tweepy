{
 "cells": [
  {
   "cell_type": "code",
   "execution_count": 2,
   "id": "fae205d9-a16f-4a7e-8d90-eee65c0aa7f6",
   "metadata": {},
   "outputs": [],
   "source": [
    "import tweepy, json\n",
    "import pandas as pd"
   ]
  },
  {
   "cell_type": "code",
   "execution_count": null,
   "id": "c505d79b-f861-43e3-b436-f18a2e53de26",
   "metadata": {},
   "outputs": [],
   "source": [
    "keys = {\n",
    "        'consumer_key': os.environ.get('API_KEY'),\n",
    "        'consumer_secret': os.environ.get('API_SECRET'),\n",
    "        'access_token_key': os.environ.get('ACCESS_TOKEN'),\n",
    "        'access_token_secret': os.environ.get('ACCESS_TOKEN_SECRET'),\n",
    "        'bearer_token': os.environ.get('BEARER_TOKEN')\n",
    "    }"
   ]
  },
  {
   "cell_type": "code",
   "execution_count": null,
   "id": "c9514737-c496-4da3-bcc3-8bea24763d9e",
   "metadata": {},
   "outputs": [],
   "source": [
    "# autenticação\n",
    "auth = tw.OAuthHandler(keys['consumer_key'], keys['consumer_secret'])\n",
    "auth.set_access_token(keys['access_token_key'], keys['access_token_secret'])\n",
    "api = tw.API(auth, wait_on_rate_limit=True)"
   ]
  }
 ],
 "metadata": {
  "kernelspec": {
   "display_name": "Python 3 (ipykernel)",
   "language": "python",
   "name": "python3"
  },
  "language_info": {
   "codemirror_mode": {
    "name": "ipython",
    "version": 3
   },
   "file_extension": ".py",
   "mimetype": "text/x-python",
   "name": "python",
   "nbconvert_exporter": "python",
   "pygments_lexer": "ipython3",
   "version": "3.10.5"
  }
 },
 "nbformat": 4,
 "nbformat_minor": 5
}
